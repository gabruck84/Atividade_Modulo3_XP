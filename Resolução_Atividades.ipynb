{
 "cells": [
  {
   "cell_type": "markdown",
   "id": "0a4fc096",
   "metadata": {},
   "source": [
    "#### Primeiro PASSO IMPORTAR AS BIBLIOTECAS"
   ]
  },
  {
   "cell_type": "code",
   "execution_count": 1,
   "id": "8f0f4344",
   "metadata": {},
   "outputs": [],
   "source": [
    "import pandas as pd"
   ]
  },
  {
   "cell_type": "code",
   "execution_count": null,
   "id": "c17ebcce",
   "metadata": {},
   "outputs": [
    {
     "data": {
      "text/html": [
       "<div>\n",
       "<style scoped>\n",
       "    .dataframe tbody tr th:only-of-type {\n",
       "        vertical-align: middle;\n",
       "    }\n",
       "\n",
       "    .dataframe tbody tr th {\n",
       "        vertical-align: top;\n",
       "    }\n",
       "\n",
       "    .dataframe thead th {\n",
       "        text-align: right;\n",
       "    }\n",
       "</style>\n",
       "<table border=\"1\" class=\"dataframe\">\n",
       "  <thead>\n",
       "    <tr style=\"text-align: right;\">\n",
       "      <th></th>\n",
       "      <th>medal_type</th>\n",
       "      <th>medal_code</th>\n",
       "      <th>medal_date</th>\n",
       "      <th>name</th>\n",
       "      <th>gender</th>\n",
       "      <th>discipline</th>\n",
       "      <th>event</th>\n",
       "      <th>event_type</th>\n",
       "      <th>url_event</th>\n",
       "      <th>code</th>\n",
       "      <th>country_code</th>\n",
       "      <th>country</th>\n",
       "      <th>country_long</th>\n",
       "    </tr>\n",
       "  </thead>\n",
       "  <tbody>\n",
       "    <tr>\n",
       "      <th>1039</th>\n",
       "      <td>Silver Medal</td>\n",
       "      <td>2.0</td>\n",
       "      <td>2024-08-09</td>\n",
       "      <td>KALEYN Boryana</td>\n",
       "      <td>W</td>\n",
       "      <td>Rhythmic Gymnastics</td>\n",
       "      <td>Individual All-Around</td>\n",
       "      <td>ATH</td>\n",
       "      <td>NaN</td>\n",
       "      <td>1548948</td>\n",
       "      <td>BUL</td>\n",
       "      <td>Bulgaria</td>\n",
       "      <td>Bulgaria</td>\n",
       "    </tr>\n",
       "    <tr>\n",
       "      <th>1040</th>\n",
       "      <td>Bronze Medal</td>\n",
       "      <td>3.0</td>\n",
       "      <td>2024-08-09</td>\n",
       "      <td>RAFFAELI Sofia</td>\n",
       "      <td>W</td>\n",
       "      <td>Rhythmic Gymnastics</td>\n",
       "      <td>Individual All-Around</td>\n",
       "      <td>ATH</td>\n",
       "      <td>NaN</td>\n",
       "      <td>1923694</td>\n",
       "      <td>ITA</td>\n",
       "      <td>Italy</td>\n",
       "      <td>Italy</td>\n",
       "    </tr>\n",
       "    <tr>\n",
       "      <th>1041</th>\n",
       "      <td>Gold Medal</td>\n",
       "      <td>1.0</td>\n",
       "      <td>2024-08-09</td>\n",
       "      <td>THIAM Nafissatou</td>\n",
       "      <td>W</td>\n",
       "      <td>Athletics</td>\n",
       "      <td>Women's Heptathlon</td>\n",
       "      <td>ATH</td>\n",
       "      <td>NaN</td>\n",
       "      <td>1903112</td>\n",
       "      <td>BEL</td>\n",
       "      <td>Belgium</td>\n",
       "      <td>Belgium</td>\n",
       "    </tr>\n",
       "    <tr>\n",
       "      <th>1042</th>\n",
       "      <td>Silver Medal</td>\n",
       "      <td>2.0</td>\n",
       "      <td>2024-08-09</td>\n",
       "      <td>JOHNSON-THOMPSON Katarina</td>\n",
       "      <td>W</td>\n",
       "      <td>Athletics</td>\n",
       "      <td>Women's Heptathlon</td>\n",
       "      <td>ATH</td>\n",
       "      <td>NaN</td>\n",
       "      <td>1977926</td>\n",
       "      <td>GBR</td>\n",
       "      <td>Great Britain</td>\n",
       "      <td>Great Britain</td>\n",
       "    </tr>\n",
       "    <tr>\n",
       "      <th>1043</th>\n",
       "      <td>Bronze Medal</td>\n",
       "      <td>3.0</td>\n",
       "      <td>2024-08-09</td>\n",
       "      <td>VIDTS Noor</td>\n",
       "      <td>W</td>\n",
       "      <td>Athletics</td>\n",
       "      <td>Women's Heptathlon</td>\n",
       "      <td>ATH</td>\n",
       "      <td>NaN</td>\n",
       "      <td>1895596</td>\n",
       "      <td>BEL</td>\n",
       "      <td>Belgium</td>\n",
       "      <td>Belgium</td>\n",
       "    </tr>\n",
       "  </tbody>\n",
       "</table>\n",
       "</div>"
      ],
      "text/plain": [
       "        medal_type  medal_code  medal_date                       name gender  \\\n",
       "1039  Silver Medal         2.0  2024-08-09             KALEYN Boryana      W   \n",
       "1040  Bronze Medal         3.0  2024-08-09             RAFFAELI Sofia      W   \n",
       "1041    Gold Medal         1.0  2024-08-09           THIAM Nafissatou      W   \n",
       "1042  Silver Medal         2.0  2024-08-09  JOHNSON-THOMPSON Katarina      W   \n",
       "1043  Bronze Medal         3.0  2024-08-09                 VIDTS Noor      W   \n",
       "\n",
       "               discipline                  event event_type url_event  \\\n",
       "1039  Rhythmic Gymnastics  Individual All-Around        ATH       NaN   \n",
       "1040  Rhythmic Gymnastics  Individual All-Around        ATH       NaN   \n",
       "1041            Athletics     Women's Heptathlon        ATH       NaN   \n",
       "1042            Athletics     Women's Heptathlon        ATH       NaN   \n",
       "1043            Athletics     Women's Heptathlon        ATH       NaN   \n",
       "\n",
       "         code country_code        country   country_long  \n",
       "1039  1548948          BUL       Bulgaria       Bulgaria  \n",
       "1040  1923694          ITA          Italy          Italy  \n",
       "1041  1903112          BEL        Belgium        Belgium  \n",
       "1042  1977926          GBR  Great Britain  Great Britain  \n",
       "1043  1895596          BEL        Belgium        Belgium  "
      ]
     },
     "execution_count": 12,
     "metadata": {},
     "output_type": "execute_result"
    }
   ],
   "source": [
    "#medalhas é o arquivo das olimpiadas com todos individuais de melhada por país\n",
    "medalhas=pd.read_csv(r'dados\\medals.csv')\n",
    "medalhas=medalhas.drop_duplicates() #certeza que não há duplicatas nos valores\n",
    "medalhas.head()"
   ]
  },
  {
   "cell_type": "code",
   "execution_count": null,
   "id": "1a23657f",
   "metadata": {},
   "outputs": [
    {
     "data": {
      "text/plain": [
       "92"
      ]
     },
     "execution_count": 7,
     "metadata": {},
     "output_type": "execute_result"
    }
   ],
   "source": [
    "#Quantos países ganharam alguma medalha?\n",
    "\n",
    "# Para responder a primeira questão é preciso usar o método nunique do pandas que retorna a quantidade de valores únicos de uma coluna\n",
    "medalhas['country_code'].nunique()\n",
    "#total 92"
   ]
  },
  {
   "cell_type": "code",
   "execution_count": null,
   "id": "0a7b3c91",
   "metadata": {},
   "outputs": [
    {
     "data": {
      "text/plain": [
       "1043"
      ]
     },
     "execution_count": 14,
     "metadata": {},
     "output_type": "execute_result"
    }
   ],
   "source": [
    "total_medalha = pd.read_csv(r'dados\\medals_total.csv')\n",
    "#Quantas medalhas foram distribuídas nas Olimpíadas de Paris?\n",
    "total_medalha['Total'].sum()"
   ]
  },
  {
   "cell_type": "code",
   "execution_count": 37,
   "id": "a2ea1d6e",
   "metadata": {},
   "outputs": [
    {
     "data": {
      "text/html": [
       "<div>\n",
       "<style scoped>\n",
       "    .dataframe tbody tr th:only-of-type {\n",
       "        vertical-align: middle;\n",
       "    }\n",
       "\n",
       "    .dataframe tbody tr th {\n",
       "        vertical-align: top;\n",
       "    }\n",
       "\n",
       "    .dataframe thead th {\n",
       "        text-align: right;\n",
       "    }\n",
       "</style>\n",
       "<table border=\"1\" class=\"dataframe\">\n",
       "  <thead>\n",
       "    <tr style=\"text-align: right;\">\n",
       "      <th></th>\n",
       "      <th>gender</th>\n",
       "      <th>height</th>\n",
       "    </tr>\n",
       "  </thead>\n",
       "  <tbody>\n",
       "    <tr>\n",
       "      <th>0</th>\n",
       "      <td>Female</td>\n",
       "      <td>172.224828</td>\n",
       "    </tr>\n",
       "    <tr>\n",
       "      <th>1</th>\n",
       "      <td>Male</td>\n",
       "      <td>185.363916</td>\n",
       "    </tr>\n",
       "  </tbody>\n",
       "</table>\n",
       "</div>"
      ],
      "text/plain": [
       "   gender      height\n",
       "0  Female  172.224828\n",
       "1    Male  185.363916"
      ]
     },
     "execution_count": 37,
     "metadata": {},
     "output_type": "execute_result"
    }
   ],
   "source": [
    "atletas = pd.read_csv(r'dados\\athletes.csv')\n",
    "atletas.columns  ##ver as colunas\n",
    "\n",
    "altura_gen= atletas[['height','gender']].copy()\n",
    "### remoção dos dados faltantes, no caso estão como 0. Há outras técnicas além de simples remoção, mas para condizer com exercício foi aplicado somente remoção\n",
    "altura_gen = altura_gen[altura_gen[\"height\"] != 0]\n",
    "altura_gen.groupby('gender',as_index=False)['height'].mean()"
   ]
  },
  {
   "cell_type": "code",
   "execution_count": null,
   "id": "09daa022",
   "metadata": {},
   "outputs": [
    {
     "name": "stdout",
     "output_type": "stream",
     "text": [
      "<class 'pandas.core.frame.DataFrame'>\n",
      "RangeIndex: 11110 entries, 0 to 11109\n",
      "Data columns (total 35 columns):\n",
      " #   Column              Non-Null Count  Dtype  \n",
      "---  ------              --------------  -----  \n",
      " 0   code                11110 non-null  int64  \n",
      " 1   name                11110 non-null  object \n",
      " 2   name_short          11110 non-null  object \n",
      " 3   name_tv             11110 non-null  object \n",
      " 4   gender              11110 non-null  object \n",
      " 5   function            11110 non-null  object \n",
      " 6   country_code        11110 non-null  object \n",
      " 7   country             11110 non-null  object \n",
      " 8   country_long        11110 non-null  object \n",
      " 9   nationality         11107 non-null  object \n",
      " 10  nationality_full    11107 non-null  object \n",
      " 11  nationality_code    11107 non-null  object \n",
      " 12  height              11110 non-null  int64  \n",
      " 13  weight              11108 non-null  float64\n",
      " 14  disciplines         11110 non-null  object \n",
      " 15  events              11110 non-null  object \n",
      " 16  birth_date          11110 non-null  object \n",
      " 17  birth_place         8727 non-null   object \n",
      " 18  birth_country       9475 non-null   object \n",
      " 19  residence_place     6804 non-null   object \n",
      " 20  residence_country   8288 non-null   object \n",
      " 21  nickname            2966 non-null   object \n",
      " 22  hobbies             4207 non-null   object \n",
      " 23  occupation          9584 non-null   object \n",
      " 24  education           5538 non-null   object \n",
      " 25  family              5561 non-null   object \n",
      " 26  lang                10605 non-null  object \n",
      " 27  coach               8222 non-null   object \n",
      " 28  reason              5846 non-null   object \n",
      " 29  hero                3315 non-null   object \n",
      " 30  influence           2155 non-null   object \n",
      " 31  philosophy          2783 non-null   object \n",
      " 32  sporting_relatives  2518 non-null   object \n",
      " 33  ritual              859 non-null    object \n",
      " 34  other_sports        1060 non-null   object \n",
      "dtypes: float64(1), int64(2), object(32)\n",
      "memory usage: 3.0+ MB\n"
     ]
    }
   ],
   "source": [
    "#Na tabela de atletas, qual desses campos não tem valores faltantes?\n",
    "atletas.info()\n"
   ]
  },
  {
   "cell_type": "code",
   "execution_count": null,
   "id": "5bf8e74c",
   "metadata": {},
   "outputs": [],
   "source": [
    "medalhas['medal_date'] = pd.to_datetime(medalhas['medal_date']) ## converter em data\n",
    "dia_medalhas = medalhas.groupby('medal_date',as_index=False)['medal_code'].count()\n",
    "dia_medalhas[dia_medalhas['medal_code'] == dia_medalhas['medal_code'].max()]"
   ]
  },
  {
   "cell_type": "code",
   "execution_count": null,
   "id": "ceefe2b6",
   "metadata": {},
   "outputs": [],
   "source": [
    "medalhas.groupby('discipline',as_index=False)['medal_code'].count().sort_values('medal_code',ascending=False)"
   ]
  },
  {
   "cell_type": "code",
   "execution_count": 80,
   "id": "ac15a376",
   "metadata": {},
   "outputs": [
    {
     "data": {
      "text/plain": [
       "206"
      ]
     },
     "execution_count": 80,
     "metadata": {},
     "output_type": "execute_result"
    }
   ],
   "source": [
    "atletas['country'].nunique()"
   ]
  }
 ],
 "metadata": {
  "kernelspec": {
   "display_name": "Python 3",
   "language": "python",
   "name": "python3"
  },
  "language_info": {
   "codemirror_mode": {
    "name": "ipython",
    "version": 3
   },
   "file_extension": ".py",
   "mimetype": "text/x-python",
   "name": "python",
   "nbconvert_exporter": "python",
   "pygments_lexer": "ipython3",
   "version": "3.10.12"
  }
 },
 "nbformat": 4,
 "nbformat_minor": 5
}
