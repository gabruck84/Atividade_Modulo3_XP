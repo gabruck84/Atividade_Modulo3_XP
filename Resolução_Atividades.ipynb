{
 "cells": [
  {
   "cell_type": "markdown",
   "id": "0a4fc096",
   "metadata": {},
   "source": [
    "#### Primeiro PASSO IMPORTAR AS BIBLIOTECAS"
   ]
  },
  {
   "cell_type": "code",
   "execution_count": 1,
   "id": "8f0f4344",
   "metadata": {},
   "outputs": [],
   "source": [
    "import pandas as pd"
   ]
  },
  {
   "cell_type": "code",
   "execution_count": 4,
   "id": "c17ebcce",
   "metadata": {},
   "outputs": [
    {
     "data": {
      "text/html": [
       "<div>\n",
       "<style scoped>\n",
       "    .dataframe tbody tr th:only-of-type {\n",
       "        vertical-align: middle;\n",
       "    }\n",
       "\n",
       "    .dataframe tbody tr th {\n",
       "        vertical-align: top;\n",
       "    }\n",
       "\n",
       "    .dataframe thead th {\n",
       "        text-align: right;\n",
       "    }\n",
       "</style>\n",
       "<table border=\"1\" class=\"dataframe\">\n",
       "  <thead>\n",
       "    <tr style=\"text-align: right;\">\n",
       "      <th></th>\n",
       "      <th>medal_type</th>\n",
       "      <th>medal_code</th>\n",
       "      <th>medal_date</th>\n",
       "      <th>name</th>\n",
       "      <th>gender</th>\n",
       "      <th>discipline</th>\n",
       "      <th>event</th>\n",
       "      <th>event_type</th>\n",
       "      <th>url_event</th>\n",
       "      <th>code</th>\n",
       "      <th>country_code</th>\n",
       "      <th>country</th>\n",
       "      <th>country_long</th>\n",
       "    </tr>\n",
       "  </thead>\n",
       "  <tbody>\n",
       "    <tr>\n",
       "      <th>0</th>\n",
       "      <td>Gold Medal</td>\n",
       "      <td>1.0</td>\n",
       "      <td>2024-07-27</td>\n",
       "      <td>Remco EVENEPOEL</td>\n",
       "      <td>M</td>\n",
       "      <td>Cycling Road</td>\n",
       "      <td>Men's Individual Time Trial</td>\n",
       "      <td>ATH</td>\n",
       "      <td>/en/paris-2024/results/cycling-road/men-s-indi...</td>\n",
       "      <td>1903136</td>\n",
       "      <td>BEL</td>\n",
       "      <td>Belgium</td>\n",
       "      <td>Belgium</td>\n",
       "    </tr>\n",
       "    <tr>\n",
       "      <th>1</th>\n",
       "      <td>Silver Medal</td>\n",
       "      <td>2.0</td>\n",
       "      <td>2024-07-27</td>\n",
       "      <td>Filippo GANNA</td>\n",
       "      <td>M</td>\n",
       "      <td>Cycling Road</td>\n",
       "      <td>Men's Individual Time Trial</td>\n",
       "      <td>ATH</td>\n",
       "      <td>/en/paris-2024/results/cycling-road/men-s-indi...</td>\n",
       "      <td>1923520</td>\n",
       "      <td>ITA</td>\n",
       "      <td>Italy</td>\n",
       "      <td>Italy</td>\n",
       "    </tr>\n",
       "    <tr>\n",
       "      <th>2</th>\n",
       "      <td>Bronze Medal</td>\n",
       "      <td>3.0</td>\n",
       "      <td>2024-07-27</td>\n",
       "      <td>Wout van AERT</td>\n",
       "      <td>M</td>\n",
       "      <td>Cycling Road</td>\n",
       "      <td>Men's Individual Time Trial</td>\n",
       "      <td>ATH</td>\n",
       "      <td>/en/paris-2024/results/cycling-road/men-s-indi...</td>\n",
       "      <td>1903147</td>\n",
       "      <td>BEL</td>\n",
       "      <td>Belgium</td>\n",
       "      <td>Belgium</td>\n",
       "    </tr>\n",
       "    <tr>\n",
       "      <th>3</th>\n",
       "      <td>Gold Medal</td>\n",
       "      <td>1.0</td>\n",
       "      <td>2024-07-27</td>\n",
       "      <td>Grace BROWN</td>\n",
       "      <td>W</td>\n",
       "      <td>Cycling Road</td>\n",
       "      <td>Women's Individual Time Trial</td>\n",
       "      <td>ATH</td>\n",
       "      <td>/en/paris-2024/results/cycling-road/women-s-in...</td>\n",
       "      <td>1940173</td>\n",
       "      <td>AUS</td>\n",
       "      <td>Australia</td>\n",
       "      <td>Australia</td>\n",
       "    </tr>\n",
       "    <tr>\n",
       "      <th>4</th>\n",
       "      <td>Silver Medal</td>\n",
       "      <td>2.0</td>\n",
       "      <td>2024-07-27</td>\n",
       "      <td>Anna HENDERSON</td>\n",
       "      <td>W</td>\n",
       "      <td>Cycling Road</td>\n",
       "      <td>Women's Individual Time Trial</td>\n",
       "      <td>ATH</td>\n",
       "      <td>/en/paris-2024/results/cycling-road/women-s-in...</td>\n",
       "      <td>1912525</td>\n",
       "      <td>GBR</td>\n",
       "      <td>Great Britain</td>\n",
       "      <td>Great Britain</td>\n",
       "    </tr>\n",
       "  </tbody>\n",
       "</table>\n",
       "</div>"
      ],
      "text/plain": [
       "     medal_type  medal_code  medal_date             name gender    discipline  \\\n",
       "0    Gold Medal         1.0  2024-07-27  Remco EVENEPOEL      M  Cycling Road   \n",
       "1  Silver Medal         2.0  2024-07-27    Filippo GANNA      M  Cycling Road   \n",
       "2  Bronze Medal         3.0  2024-07-27    Wout van AERT      M  Cycling Road   \n",
       "3    Gold Medal         1.0  2024-07-27      Grace BROWN      W  Cycling Road   \n",
       "4  Silver Medal         2.0  2024-07-27   Anna HENDERSON      W  Cycling Road   \n",
       "\n",
       "                           event event_type  \\\n",
       "0    Men's Individual Time Trial        ATH   \n",
       "1    Men's Individual Time Trial        ATH   \n",
       "2    Men's Individual Time Trial        ATH   \n",
       "3  Women's Individual Time Trial        ATH   \n",
       "4  Women's Individual Time Trial        ATH   \n",
       "\n",
       "                                           url_event     code country_code  \\\n",
       "0  /en/paris-2024/results/cycling-road/men-s-indi...  1903136          BEL   \n",
       "1  /en/paris-2024/results/cycling-road/men-s-indi...  1923520          ITA   \n",
       "2  /en/paris-2024/results/cycling-road/men-s-indi...  1903147          BEL   \n",
       "3  /en/paris-2024/results/cycling-road/women-s-in...  1940173          AUS   \n",
       "4  /en/paris-2024/results/cycling-road/women-s-in...  1912525          GBR   \n",
       "\n",
       "         country   country_long  \n",
       "0        Belgium        Belgium  \n",
       "1          Italy          Italy  \n",
       "2        Belgium        Belgium  \n",
       "3      Australia      Australia  \n",
       "4  Great Britain  Great Britain  "
      ]
     },
     "execution_count": 4,
     "metadata": {},
     "output_type": "execute_result"
    }
   ],
   "source": [
    "#medalhas é o arquivo das olimpiadas com todos individuais de melhada por país\n",
    "medalhas=pd.read_csv(r'C:\\Users\\gabri\\OneDrive\\Pós_Machine_Learn\\Módulo3\\Atividade_Modulo3_XP\\dados\\medals.csv')\n",
    "medalhas.head()"
   ]
  },
  {
   "cell_type": "code",
   "execution_count": null,
   "id": "1a23657f",
   "metadata": {},
   "outputs": [
    {
     "data": {
      "text/plain": [
       "92"
      ]
     },
     "execution_count": 7,
     "metadata": {},
     "output_type": "execute_result"
    }
   ],
   "source": [
    "#Quantos países ganharam alguma medalha?\n",
    "\n",
    "# Para responder a primeira questão é preciso usar o método nunique retorna a quantidade de valores únicos de uma coluna\n",
    "medalhas['country_code'].nunique()\n",
    "#total 92"
   ]
  },
  {
   "cell_type": "code",
   "execution_count": null,
   "id": "0a7b3c91",
   "metadata": {},
   "outputs": [],
   "source": []
  }
 ],
 "metadata": {
  "kernelspec": {
   "display_name": "Python 3",
   "language": "python",
   "name": "python3"
  },
  "language_info": {
   "codemirror_mode": {
    "name": "ipython",
    "version": 3
   },
   "file_extension": ".py",
   "mimetype": "text/x-python",
   "name": "python",
   "nbconvert_exporter": "python",
   "pygments_lexer": "ipython3",
   "version": "3.10.12"
  }
 },
 "nbformat": 4,
 "nbformat_minor": 5
}
